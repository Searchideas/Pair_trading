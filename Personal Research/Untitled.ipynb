{
 "cells": [
  {
   "cell_type": "markdown",
   "id": "86205783-5aa8-4fcf-beee-f3fa40c8f732",
   "metadata": {},
   "source": [
    "### Import Function and Libraries"
   ]
  },
  {
   "cell_type": "code",
   "execution_count": 25,
   "id": "cc4ee15c-f46c-41cc-8c1b-1f23e172ca0b",
   "metadata": {},
   "outputs": [],
   "source": [
    "import pandas as pd \n",
    "import numpy as np \n",
    "import yfinance as yf\n",
    "from yahoofinancials import YahooFinancials\n",
    "import datetime as dt\n",
    "import matplotlib\n",
    "import matplotlib.pyplot as plt\n",
    "from Data_Retrieval import DataRetrieval\n",
    "from CC_test import CCstudy\n",
    "import itertools\n",
    "from pandas_datareader import data as pdr\n",
    "from yahooquery import Ticker"
   ]
  },
  {
   "cell_type": "code",
   "execution_count": 27,
   "id": "3627334a-408b-4af7-89e6-8d51cece89dd",
   "metadata": {},
   "outputs": [],
   "source": [
    "from Spread import Spread"
   ]
  },
  {
   "cell_type": "code",
   "execution_count": 29,
   "id": "a93bfc3d-12ab-4dbc-a013-94b43ed9e758",
   "metadata": {},
   "outputs": [],
   "source": [
    "from time import time\n",
    "from pathlib import Path\n",
    "from tqdm import tqdm \n",
    "\n",
    "import numpy as np\n",
    "from numpy.linalg import LinAlgError\n",
    "import pandas as pd\n",
    "\n",
    "from sklearn.model_selection import StratifiedKFold, GridSearchCV\n",
    "from sklearn.metrics import confusion_matrix\n",
    "from sklearn.tree import  DecisionTreeClassifier\n",
    "from sklearn.linear_model import LogisticRegressionCV\n",
    "\n",
    "from statsmodels.tsa.stattools import adfuller, coint\n",
    "from statsmodels.tsa.vector_ar.vecm import coint_johansen\n",
    "from statsmodels.tsa.api import VAR\n",
    "\n",
    "import matplotlib.pyplot as plt\n",
    "import seaborn as sns"
   ]
  },
  {
   "cell_type": "code",
   "execution_count": 31,
   "id": "c01386c2-8964-4d16-89a8-fa670a1d1c26",
   "metadata": {},
   "outputs": [],
   "source": [
    "import warnings\n",
    "warnings.filterwarnings('ignore')"
   ]
  },
  {
   "cell_type": "markdown",
   "id": "49dd433c-6575-4319-bd76-3ca278dbb972",
   "metadata": {},
   "source": [
    "### Industry and Sector dictionary"
   ]
  },
  {
   "cell_type": "code",
   "execution_count": 34,
   "id": "694f5013-b46f-4725-87c7-8fb1d3a7034c",
   "metadata": {},
   "outputs": [],
   "source": [
    "def classification(tickers):\n",
    "    tickers = Ticker(tickers, asynchronous=True)\n",
    "    \n",
    "    datasi = tickers.get_modules(\"summaryProfile quoteType\")\n",
    "    dfsi = pd.DataFrame.from_dict(datasi).T\n",
    "    dataframes = [pd.json_normalize([x for x in dfsi[module] if isinstance(x, dict)]) for\n",
    "    module in ['summaryProfile', 'quoteType']]\n",
    "    \n",
    "    dfsi = pd.concat(dataframes, axis=1)\n",
    "    \n",
    "    dfsi = pd.DataFrame(dfsi.set_index('symbol'))\n",
    "    dfsi=dfsi[['industry', 'sector']].reset_index()\n",
    "    dfsi['symbol'].str.upper()\n",
    "    return dfsi\n"
   ]
  },
  {
   "cell_type": "markdown",
   "id": "5bbf4d8e-858a-4f99-b504-e7104ce4ed3b",
   "metadata": {},
   "source": [
    "### Import TW exchange counters"
   ]
  },
  {
   "cell_type": "markdown",
   "id": "976cf6da-e43e-4cea-b18b-6e561572c012",
   "metadata": {},
   "source": [
    "Our main focus in on Taiwan exchange counters hence we will import taiwan exchange ticker code and retrieve the adjusted closing price from yahoo finance API."
   ]
  },
  {
   "cell_type": "code",
   "execution_count": 36,
   "id": "c2500566-2092-4ca2-9303-17d8449edbae",
   "metadata": {},
   "outputs": [],
   "source": [
    "counter_code = pd.read_csv('taiwan_stocks.csv')"
   ]
  },
  {
   "cell_type": "code",
   "execution_count": 8,
   "id": "5a579312-e1ac-4b21-9913-aaea282ee333",
   "metadata": {},
   "outputs": [],
   "source": [
    "tickers=['^TWII','2330.TW']"
   ]
  },
  {
   "cell_type": "code",
   "execution_count": 38,
   "id": "519e0f5d-7393-4453-8fd8-0157444deeb2",
   "metadata": {},
   "outputs": [],
   "source": [
    "tickers = list(counter_code.iloc[:,2])"
   ]
  },
  {
   "cell_type": "code",
   "execution_count": 40,
   "id": "bac3be88-4b23-4f99-bf7f-b4ced712e288",
   "metadata": {},
   "outputs": [],
   "source": [
    "tickers = list(counter_code.iloc[:,2].apply(lambda x: str(x)+\".TW\"))"
   ]
  },
  {
   "cell_type": "code",
   "execution_count": 42,
   "id": "a508b34e-bdd0-4504-9704-4c9643130445",
   "metadata": {},
   "outputs": [],
   "source": [
    "classlist = classification(tickers)"
   ]
  },
  {
   "cell_type": "code",
   "execution_count": 43,
   "id": "107204f1-d787-4e8a-83ba-2aa0c9f82591",
   "metadata": {},
   "outputs": [
    {
     "data": {
      "text/html": [
       "<div>\n",
       "<style scoped>\n",
       "    .dataframe tbody tr th:only-of-type {\n",
       "        vertical-align: middle;\n",
       "    }\n",
       "\n",
       "    .dataframe tbody tr th {\n",
       "        vertical-align: top;\n",
       "    }\n",
       "\n",
       "    .dataframe thead th {\n",
       "        text-align: right;\n",
       "    }\n",
       "</style>\n",
       "<table border=\"1\" class=\"dataframe\">\n",
       "  <thead>\n",
       "    <tr style=\"text-align: right;\">\n",
       "      <th></th>\n",
       "      <th>symbol</th>\n",
       "      <th>industry</th>\n",
       "      <th>sector</th>\n",
       "    </tr>\n",
       "  </thead>\n",
       "  <tbody>\n",
       "    <tr>\n",
       "      <th>0</th>\n",
       "      <td>1303.TW</td>\n",
       "      <td>Specialty Chemicals</td>\n",
       "      <td>Basic Materials</td>\n",
       "    </tr>\n",
       "    <tr>\n",
       "      <th>1</th>\n",
       "      <td>2881.TW</td>\n",
       "      <td>Insurance - Life</td>\n",
       "      <td>Financial Services</td>\n",
       "    </tr>\n",
       "    <tr>\n",
       "      <th>2</th>\n",
       "      <td>2002.TW</td>\n",
       "      <td>Steel</td>\n",
       "      <td>Basic Materials</td>\n",
       "    </tr>\n",
       "    <tr>\n",
       "      <th>3</th>\n",
       "      <td>2303.TW</td>\n",
       "      <td>Semiconductors</td>\n",
       "      <td>Technology</td>\n",
       "    </tr>\n",
       "    <tr>\n",
       "      <th>4</th>\n",
       "      <td>2880.TW</td>\n",
       "      <td>Banks - Regional</td>\n",
       "      <td>Financial Services</td>\n",
       "    </tr>\n",
       "    <tr>\n",
       "      <th>...</th>\n",
       "      <td>...</td>\n",
       "      <td>...</td>\n",
       "      <td>...</td>\n",
       "    </tr>\n",
       "    <tr>\n",
       "      <th>188</th>\n",
       "      <td>1503.TW</td>\n",
       "      <td>Electrical Equipment &amp; Parts</td>\n",
       "      <td>Industrials</td>\n",
       "    </tr>\n",
       "    <tr>\n",
       "      <th>189</th>\n",
       "      <td>5876.TW</td>\n",
       "      <td>Banks - Regional</td>\n",
       "      <td>Financial Services</td>\n",
       "    </tr>\n",
       "    <tr>\n",
       "      <th>190</th>\n",
       "      <td>6139.TW</td>\n",
       "      <td>Engineering &amp; Construction</td>\n",
       "      <td>Industrials</td>\n",
       "    </tr>\n",
       "    <tr>\n",
       "      <th>191</th>\n",
       "      <td>6526.TW</td>\n",
       "      <td>Semiconductors</td>\n",
       "      <td>Technology</td>\n",
       "    </tr>\n",
       "    <tr>\n",
       "      <th>192</th>\n",
       "      <td>6505.TW</td>\n",
       "      <td>Oil &amp; Gas Refining &amp; Marketing</td>\n",
       "      <td>Energy</td>\n",
       "    </tr>\n",
       "  </tbody>\n",
       "</table>\n",
       "<p>193 rows × 3 columns</p>\n",
       "</div>"
      ],
      "text/plain": [
       "      symbol                        industry              sector\n",
       "0    1303.TW             Specialty Chemicals     Basic Materials\n",
       "1    2881.TW                Insurance - Life  Financial Services\n",
       "2    2002.TW                           Steel     Basic Materials\n",
       "3    2303.TW                  Semiconductors          Technology\n",
       "4    2880.TW                Banks - Regional  Financial Services\n",
       "..       ...                             ...                 ...\n",
       "188  1503.TW    Electrical Equipment & Parts         Industrials\n",
       "189  5876.TW                Banks - Regional  Financial Services\n",
       "190  6139.TW      Engineering & Construction         Industrials\n",
       "191  6526.TW                  Semiconductors          Technology\n",
       "192  6505.TW  Oil & Gas Refining & Marketing              Energy\n",
       "\n",
       "[193 rows x 3 columns]"
      ]
     },
     "execution_count": 43,
     "metadata": {},
     "output_type": "execute_result"
    }
   ],
   "source": [
    "classlist"
   ]
  },
  {
   "cell_type": "code",
   "execution_count": 44,
   "id": "060398c4-e2ab-49c9-8453-375c8cabfec6",
   "metadata": {},
   "outputs": [
    {
     "name": "stderr",
     "output_type": "stream",
     "text": [
      "[*********************100%***********************]  1 of 1 completed\n",
      "[*********************100%***********************]  1 of 1 completed\n",
      "[*********************100%***********************]  1 of 1 completed\n",
      "[*********************100%***********************]  1 of 1 completed\n",
      "[*********************100%***********************]  1 of 1 completed\n",
      "[*********************100%***********************]  1 of 1 completed\n",
      "[*********************100%***********************]  1 of 1 completed\n",
      "[*********************100%***********************]  1 of 1 completed\n",
      "[*********************100%***********************]  1 of 1 completed\n",
      "[*********************100%***********************]  1 of 1 completed\n",
      "[*********************100%***********************]  1 of 1 completed\n",
      "[*********************100%***********************]  1 of 1 completed\n",
      "[*********************100%***********************]  1 of 1 completed\n",
      "[*********************100%***********************]  1 of 1 completed\n",
      "[*********************100%***********************]  1 of 1 completed\n",
      "[*********************100%***********************]  1 of 1 completed\n",
      "[*********************100%***********************]  1 of 1 completed\n",
      "[*********************100%***********************]  1 of 1 completed\n",
      "[*********************100%***********************]  1 of 1 completed\n",
      "[*********************100%***********************]  1 of 1 completed\n",
      "[*********************100%***********************]  1 of 1 completed\n",
      "[*********************100%***********************]  1 of 1 completed\n",
      "[*********************100%***********************]  1 of 1 completed\n",
      "[*********************100%***********************]  1 of 1 completed\n",
      "[*********************100%***********************]  1 of 1 completed\n",
      "[*********************100%***********************]  1 of 1 completed\n",
      "[*********************100%***********************]  1 of 1 completed\n",
      "[*********************100%***********************]  1 of 1 completed\n",
      "[*********************100%***********************]  1 of 1 completed\n",
      "[*********************100%***********************]  1 of 1 completed\n",
      "[*********************100%***********************]  1 of 1 completed\n",
      "[*********************100%***********************]  1 of 1 completed\n",
      "[*********************100%***********************]  1 of 1 completed\n",
      "[*********************100%***********************]  1 of 1 completed\n",
      "[*********************100%***********************]  1 of 1 completed\n",
      "[*********************100%***********************]  1 of 1 completed\n",
      "[*********************100%***********************]  1 of 1 completed\n",
      "[*********************100%***********************]  1 of 1 completed\n",
      "[*********************100%***********************]  1 of 1 completed\n",
      "[*********************100%***********************]  1 of 1 completed\n",
      "[*********************100%***********************]  1 of 1 completed\n",
      "[*********************100%***********************]  1 of 1 completed\n",
      "[*********************100%***********************]  1 of 1 completed\n",
      "[*********************100%***********************]  1 of 1 completed\n",
      "[*********************100%***********************]  1 of 1 completed\n",
      "[*********************100%***********************]  1 of 1 completed\n",
      "[*********************100%***********************]  1 of 1 completed\n",
      "[*********************100%***********************]  1 of 1 completed\n",
      "[*********************100%***********************]  1 of 1 completed\n",
      "[*********************100%***********************]  1 of 1 completed\n",
      "[*********************100%***********************]  1 of 1 completed\n",
      "[*********************100%***********************]  1 of 1 completed\n",
      "[*********************100%***********************]  1 of 1 completed\n",
      "[*********************100%***********************]  1 of 1 completed\n",
      "[*********************100%***********************]  1 of 1 completed\n",
      "[*********************100%***********************]  1 of 1 completed\n",
      "[*********************100%***********************]  1 of 1 completed\n",
      "[*********************100%***********************]  1 of 1 completed\n",
      "[*********************100%***********************]  1 of 1 completed\n",
      "[*********************100%***********************]  1 of 1 completed\n",
      "[*********************100%***********************]  1 of 1 completed\n",
      "[*********************100%***********************]  1 of 1 completed\n",
      "[*********************100%***********************]  1 of 1 completed\n",
      "[*********************100%***********************]  1 of 1 completed\n",
      "[*********************100%***********************]  1 of 1 completed\n",
      "[*********************100%***********************]  1 of 1 completed\n",
      "[*********************100%***********************]  1 of 1 completed\n",
      "[*********************100%***********************]  1 of 1 completed\n",
      "[*********************100%***********************]  1 of 1 completed\n",
      "[*********************100%***********************]  1 of 1 completed\n",
      "[*********************100%***********************]  1 of 1 completed\n",
      "[*********************100%***********************]  1 of 1 completed\n",
      "[*********************100%***********************]  1 of 1 completed\n",
      "[*********************100%***********************]  1 of 1 completed\n",
      "[*********************100%***********************]  1 of 1 completed\n",
      "[*********************100%***********************]  1 of 1 completed\n",
      "[*********************100%***********************]  1 of 1 completed\n",
      "[*********************100%***********************]  1 of 1 completed\n",
      "[*********************100%***********************]  1 of 1 completed\n",
      "[*********************100%***********************]  1 of 1 completed\n",
      "[*********************100%***********************]  1 of 1 completed\n",
      "[*********************100%***********************]  1 of 1 completed\n",
      "[*********************100%***********************]  1 of 1 completed\n",
      "[*********************100%***********************]  1 of 1 completed\n",
      "[*********************100%***********************]  1 of 1 completed\n",
      "[*********************100%***********************]  1 of 1 completed\n",
      "[*********************100%***********************]  1 of 1 completed\n",
      "[*********************100%***********************]  1 of 1 completed\n",
      "[*********************100%***********************]  1 of 1 completed\n",
      "[*********************100%***********************]  1 of 1 completed\n",
      "[*********************100%***********************]  1 of 1 completed\n",
      "[*********************100%***********************]  1 of 1 completed\n",
      "[*********************100%***********************]  1 of 1 completed\n",
      "[*********************100%***********************]  1 of 1 completed\n",
      "[*********************100%***********************]  1 of 1 completed\n",
      "[*********************100%***********************]  1 of 1 completed\n",
      "[*********************100%***********************]  1 of 1 completed\n",
      "[*********************100%***********************]  1 of 1 completed\n",
      "[*********************100%***********************]  1 of 1 completed\n",
      "[*********************100%***********************]  1 of 1 completed\n",
      "[*********************100%***********************]  1 of 1 completed\n",
      "[*********************100%***********************]  1 of 1 completed\n",
      "[*********************100%***********************]  1 of 1 completed\n",
      "[*********************100%***********************]  1 of 1 completed\n",
      "[*********************100%***********************]  1 of 1 completed\n",
      "[*********************100%***********************]  1 of 1 completed\n",
      "[*********************100%***********************]  1 of 1 completed\n",
      "[*********************100%***********************]  1 of 1 completed\n",
      "[*********************100%***********************]  1 of 1 completed\n",
      "[*********************100%***********************]  1 of 1 completed\n",
      "[*********************100%***********************]  1 of 1 completed\n",
      "[*********************100%***********************]  1 of 1 completed\n",
      "[*********************100%***********************]  1 of 1 completed\n",
      "[*********************100%***********************]  1 of 1 completed\n",
      "[*********************100%***********************]  1 of 1 completed\n",
      "[*********************100%***********************]  1 of 1 completed\n",
      "[*********************100%***********************]  1 of 1 completed\n",
      "[*********************100%***********************]  1 of 1 completed\n",
      "[*********************100%***********************]  1 of 1 completed\n",
      "[*********************100%***********************]  1 of 1 completed\n",
      "[*********************100%***********************]  1 of 1 completed\n",
      "[*********************100%***********************]  1 of 1 completed\n",
      "[*********************100%***********************]  1 of 1 completed\n",
      "[*********************100%***********************]  1 of 1 completed\n",
      "[*********************100%***********************]  1 of 1 completed\n",
      "[*********************100%***********************]  1 of 1 completed\n",
      "[*********************100%***********************]  1 of 1 completed\n",
      "[*********************100%***********************]  1 of 1 completed\n",
      "[*********************100%***********************]  1 of 1 completed\n",
      "[*********************100%***********************]  1 of 1 completed\n",
      "[*********************100%***********************]  1 of 1 completed\n",
      "[*********************100%***********************]  1 of 1 completed\n",
      "[*********************100%***********************]  1 of 1 completed\n",
      "[*********************100%***********************]  1 of 1 completed\n",
      "[*********************100%***********************]  1 of 1 completed\n",
      "[*********************100%***********************]  1 of 1 completed\n",
      "[*********************100%***********************]  1 of 1 completed\n",
      "[*********************100%***********************]  1 of 1 completed\n",
      "[*********************100%***********************]  1 of 1 completed\n",
      "[*********************100%***********************]  1 of 1 completed\n",
      "[*********************100%***********************]  1 of 1 completed\n",
      "[*********************100%***********************]  1 of 1 completed\n",
      "[*********************100%***********************]  1 of 1 completed\n",
      "[*********************100%***********************]  1 of 1 completed\n",
      "[*********************100%***********************]  1 of 1 completed\n",
      "[*********************100%***********************]  1 of 1 completed\n",
      "[*********************100%***********************]  1 of 1 completed\n",
      "[*********************100%***********************]  1 of 1 completed\n",
      "[*********************100%***********************]  1 of 1 completed\n",
      "[*********************100%***********************]  1 of 1 completed\n",
      "[*********************100%***********************]  1 of 1 completed\n",
      "[*********************100%***********************]  1 of 1 completed\n",
      "[*********************100%***********************]  1 of 1 completed\n",
      "[*********************100%***********************]  1 of 1 completed\n",
      "[*********************100%***********************]  1 of 1 completed\n",
      "[*********************100%***********************]  1 of 1 completed\n",
      "[*********************100%***********************]  1 of 1 completed\n",
      "[*********************100%***********************]  1 of 1 completed\n",
      "[*********************100%***********************]  1 of 1 completed\n",
      "[*********************100%***********************]  1 of 1 completed\n",
      "[*********************100%***********************]  1 of 1 completed\n",
      "[*********************100%***********************]  1 of 1 completed\n",
      "[*********************100%***********************]  1 of 1 completed\n",
      "[*********************100%***********************]  1 of 1 completed\n",
      "[*********************100%***********************]  1 of 1 completed\n",
      "[*********************100%***********************]  1 of 1 completed\n",
      "[*********************100%***********************]  1 of 1 completed\n",
      "[*********************100%***********************]  1 of 1 completed\n",
      "[*********************100%***********************]  1 of 1 completed\n",
      "[*********************100%***********************]  1 of 1 completed\n",
      "[*********************100%***********************]  1 of 1 completed\n",
      "[*********************100%***********************]  1 of 1 completed\n",
      "[*********************100%***********************]  1 of 1 completed\n",
      "[*********************100%***********************]  1 of 1 completed\n",
      "[*********************100%***********************]  1 of 1 completed\n",
      "[*********************100%***********************]  1 of 1 completed\n",
      "[*********************100%***********************]  1 of 1 completed\n",
      "[*********************100%***********************]  1 of 1 completed\n",
      "[*********************100%***********************]  1 of 1 completed\n",
      "[*********************100%***********************]  1 of 1 completed\n",
      "[*********************100%***********************]  1 of 1 completed\n",
      "[*********************100%***********************]  1 of 1 completed\n",
      "[*********************100%***********************]  1 of 1 completed\n",
      "[*********************100%***********************]  1 of 1 completed\n",
      "[*********************100%***********************]  1 of 1 completed\n",
      "[*********************100%***********************]  1 of 1 completed\n",
      "[*********************100%***********************]  1 of 1 completed\n",
      "[*********************100%***********************]  1 of 1 completed\n",
      "[*********************100%***********************]  1 of 1 completed\n",
      "[*********************100%***********************]  1 of 1 completed\n",
      "[*********************100%***********************]  1 of 1 completed\n",
      "[*********************100%***********************]  1 of 1 completed\n",
      "[*********************100%***********************]  1 of 1 completed\n",
      "[*********************100%***********************]  1 of 1 completed\n",
      "[*********************100%***********************]  1 of 1 completed\n",
      "[*********************100%***********************]  1 of 1 completed\n",
      "[*********************100%***********************]  1 of 1 completed\n",
      "[*********************100%***********************]  1 of 1 completed\n",
      "[*********************100%***********************]  1 of 1 completed\n",
      "[*********************100%***********************]  1 of 1 completed\n",
      "[*********************100%***********************]  1 of 1 completed\n",
      "[*********************100%***********************]  1 of 1 completed\n",
      "[*********************100%***********************]  1 of 1 completed\n",
      "[*********************100%***********************]  1 of 1 completed\n",
      "[*********************100%***********************]  1 of 1 completed\n",
      "[*********************100%***********************]  1 of 1 completed\n",
      "[*********************100%***********************]  1 of 1 completed\n",
      "[*********************100%***********************]  1 of 1 completed\n",
      "[*********************100%***********************]  1 of 1 completed\n",
      "[*********************100%***********************]  1 of 1 completed\n",
      "[*********************100%***********************]  1 of 1 completed\n",
      "[*********************100%***********************]  1 of 1 completed\n",
      "[*********************100%***********************]  1 of 1 completed\n",
      "[*********************100%***********************]  1 of 1 completed\n",
      "[*********************100%***********************]  1 of 1 completed\n",
      "[*********************100%***********************]  1 of 1 completed\n",
      "[*********************100%***********************]  1 of 1 completed\n",
      "[*********************100%***********************]  1 of 1 completed\n"
     ]
    }
   ],
   "source": [
    "#tickers = ['2330.tw','0052.TW']\n",
    "start_date = \"2020-01-01\"\n",
    "end_date = \"2023-12-30\"\n",
    "\n",
    "if tickers is not None:\n",
    "    merged_df = DataRetrieval.retrieve_and_merge_data(tickers, start_date, end_date)\n",
    "else:\n",
    "    print(\"Error: tickers is None\")"
   ]
  },
  {
   "cell_type": "code",
   "execution_count": 48,
   "id": "d6d8374c-8531-4876-a035-a528ba60abfb",
   "metadata": {},
   "outputs": [],
   "source": [
    "merged_df = merged_df.dropna(axis=1, how='any')"
   ]
  },
  {
   "cell_type": "markdown",
   "id": "bb0b209c-7d7b-436b-8a1a-49fdcdbbb267",
   "metadata": {},
   "source": [
    "### Correlation and Cointegration Study "
   ]
  },
  {
   "cell_type": "code",
   "execution_count": null,
   "id": "75226b00-3e89-4fa6-ae9b-e0de2f2d587b",
   "metadata": {},
   "outputs": [
    {
     "name": "stdout",
     "output_type": "stream",
     "text": [
      "\n",
      "Cointegration Test Results:\n"
     ]
    }
   ],
   "source": [
    "cc_study = CCstudy(merged_df)\n",
    "table = cc_study.main()"
   ]
  },
  {
   "cell_type": "code",
   "execution_count": null,
   "id": "83ac84fd-684a-4866-a2ba-cdeeea3d0a1e",
   "metadata": {},
   "outputs": [],
   "source": [
    "table.sort_values(by=['Cointegration result','correlation'],ascending =[True,False])"
   ]
  },
  {
   "cell_type": "code",
   "execution_count": null,
   "id": "0ac3cfc5-8331-4cd1-95f9-8deb945ac8d4",
   "metadata": {},
   "outputs": [],
   "source": [
    "table =table[(table['Cointegration result'] < 0.05) & (table['correlation'] > 0.5)].sort_values(by=['correlation','Cointegration result'],ascending =[False,True])"
   ]
  },
  {
   "cell_type": "code",
   "execution_count": null,
   "id": "ac9e252b-fe10-41d5-91a7-fa173cffba75",
   "metadata": {},
   "outputs": [],
   "source": [
    "def categorize(classlist,column,counter):\n",
    "    if column == 'industry':\n",
    "        a=pd.DataFrame(dict(classlist.iloc[:,0:2]))\n",
    "        return table[counter].map(a.set_index('symbol')[column])\n",
    "    elif column == 'sector':\n",
    "        b= pd.DataFrame(dict(classlist.iloc[:,[0,2]]))\n",
    "        return table[counter].map(b.set_index('symbol')[column])\n",
    "    else:\n",
    "        return 'Error'"
   ]
  },
  {
   "cell_type": "code",
   "execution_count": null,
   "id": "275c658e-5b26-4377-81fc-fe49d1da673b",
   "metadata": {},
   "outputs": [],
   "source": [
    "classlist"
   ]
  },
  {
   "cell_type": "code",
   "execution_count": null,
   "id": "a80b25a4-7072-4941-8043-1bc4c2d499b0",
   "metadata": {},
   "outputs": [],
   "source": [
    "table['ticker1_industry'] = categorize(classlist,'sector','ticker1')\n",
    "table['ticker2_industry'] = categorize(classlist,'sector','ticker2')\n"
   ]
  },
  {
   "cell_type": "code",
   "execution_count": null,
   "id": "f875d752-7785-42ec-90ee-45ff35ed5b37",
   "metadata": {},
   "outputs": [],
   "source": [
    "table"
   ]
  },
  {
   "cell_type": "markdown",
   "id": "4d0e963f-88db-48b8-9dd2-66bddfbf24a4",
   "metadata": {},
   "source": [
    "### Selection of pair trading"
   ]
  },
  {
   "cell_type": "markdown",
   "id": "ec70a714-194e-4e93-b0bd-5274e2b6564b",
   "metadata": {},
   "source": [
    "In order to remove any industry specific systematic risk, the first criteria should be that the pair of stocks should belong to the same industry"
   ]
  },
  {
   "cell_type": "code",
   "execution_count": null,
   "id": "af83efb3-3e9d-42c3-b0d1-29f973098574",
   "metadata": {},
   "outputs": [],
   "source": [
    "table =table[(table['Cointegration result'] < 0.05) & (table['ticker1_industry'] == table['ticker2_industry'])].sort_values(by=['correlation','Cointegration result'],ascending =[False,True])"
   ]
  },
  {
   "cell_type": "code",
   "execution_count": null,
   "id": "ae769fbd-1290-4df2-9f4c-436b67339c37",
   "metadata": {},
   "outputs": [],
   "source": [
    "table[table['ticker1_industry'] == 'Technology']"
   ]
  },
  {
   "cell_type": "code",
   "execution_count": null,
   "id": "49c2c184-8609-4ead-80f9-0b04139b7c97",
   "metadata": {},
   "outputs": [],
   "source": [
    "Pair = ['^TWII','2330.TW']\t"
   ]
  },
  {
   "cell_type": "code",
   "execution_count": null,
   "id": "53e97c42-69db-4e95-9a3e-3ea42b69422e",
   "metadata": {},
   "outputs": [],
   "source": [
    "spread_calculator = Spread(merged_df)\n",
    "spread_calculator.calculate_spread_and_volatility(Pair)"
   ]
  },
  {
   "cell_type": "code",
   "execution_count": null,
   "id": "bb49e2f1-cbf9-44c9-b907-ef7d247453d8",
   "metadata": {},
   "outputs": [],
   "source": []
  }
 ],
 "metadata": {
  "kernelspec": {
   "display_name": "Python 3 (ipykernel)",
   "language": "python",
   "name": "python3"
  },
  "language_info": {
   "codemirror_mode": {
    "name": "ipython",
    "version": 3
   },
   "file_extension": ".py",
   "mimetype": "text/x-python",
   "name": "python",
   "nbconvert_exporter": "python",
   "pygments_lexer": "ipython3",
   "version": "3.12.4"
  }
 },
 "nbformat": 4,
 "nbformat_minor": 5
}
